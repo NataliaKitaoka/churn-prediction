{
 "cells": [
  {
   "cell_type": "markdown",
   "metadata": {},
   "source": [
    "This notebook was done to simulate the tasks that should be done through Apache Airflow Operators"
   ]
  },
  {
   "cell_type": "code",
   "execution_count": null,
   "metadata": {},
   "outputs": [],
   "source": [
    "#After installing the Kaggle API, the dataset files were downloaded through the \n",
    "#following terminal command (locally):\n",
    "#\"kaggle competitions download -c customer-churn-prediction-2020 -p my/home/directory/\"\n"
   ]
  },
  {
   "cell_type": "code",
   "execution_count": 4,
   "metadata": {},
   "outputs": [],
   "source": [
    "#Importing modules\n",
    "import os\n",
    "import boto3 #AWS SDK for Python\n",
    "import pandas as pd\n",
    "from zipfile import ZipFile\n"
   ]
  },
  {
   "cell_type": "code",
   "execution_count": 5,
   "metadata": {},
   "outputs": [],
   "source": [
    "#After, downloading the dataset to my local machine, they should be converted:\n",
    "#.csv files to dataframe\n",
    "for file_csv in os.listdir('/home/natalia/churn-prediction/data/'):\n",
    "    file_df = pd.read_csv('/home/natalia/churn-prediction/data/'+ file_csv)\n",
    "    if 'train.csv' in file_csv:\n",
    "        file_df.to_parquet('/home/natalia/churn-prediction/parquet_data/'+'train.parquet')\n",
    "    elif 'test.csv' in file_csv:\n",
    "        file_df.to_parquet('/home/natalia/churn-prediction/parquet_data/'+'test.parquet')\n",
    "    elif 'sampleSubmission.csv' in file_csv:\n",
    "        file_df.to_parquet('/home/natalia/churn-prediction/parquet_data/'+'sampleSubm.parquet')\n"
   ]
  },
  {
   "cell_type": "code",
   "execution_count": 6,
   "metadata": {},
   "outputs": [
    {
     "name": "stdout",
     "output_type": "stream",
     "text": [
      "File Name                                             Modified             Size\n",
      "sampleSubmission.csv                           2020-04-15 11:40:32         6189\n",
      "test.csv                                       2020-04-15 11:40:32        70061\n",
      "train.csv                                      2020-04-15 11:40:32       391872\n"
     ]
    }
   ],
   "source": [
    "#Importing data without using awswrangler\n",
    "data_zip = '/home/natalia/customer-churn-prediction-2020.zip'\n",
    "\n",
    "with ZipFile(data_zip,'r') as zip:\n",
    "    zip.printdir()\n",
    "    zip.extractall('/home/natalia/churn-prediction/data')\n",
    "\n",
    "train_df = pd.read_csv('/home/natalia/churn-prediction/data/train.csv')\n",
    "test_df = pd.read_csv('/home/natalia/churn-prediction/data/test.csv')\n",
    "sample_submission = pd.read_csv('/home/natalia/churn-prediction/data/sampleSubmission.csv')"
   ]
  },
  {
   "cell_type": "code",
   "execution_count": 7,
   "metadata": {},
   "outputs": [],
   "source": [
    "# Converting Dataframe to parquet\n",
    "train_df.to_parquet('/home/natalia/churn-prediction/parquet_data/train.parquet')"
   ]
  },
  {
   "cell_type": "code",
   "execution_count": 9,
   "metadata": {},
   "outputs": [
    {
     "name": "stdout",
     "output_type": "stream",
     "text": [
      "customer-churn-2020-data\n"
     ]
    }
   ],
   "source": [
    "#Uploading the data into a s3 - Simple Storage Service from Amazon\n",
    "# Print out bucket names\n",
    "for bucket in s3.buckets.all():\n",
    "    print(bucket.name)"
   ]
  },
  {
   "cell_type": "code",
   "execution_count": 8,
   "metadata": {},
   "outputs": [],
   "source": [
    "BUCKET_NAME = 'customer-churn-2020-data' \n",
    "KEY = 'http://s3/customer-churn-2020-data/train.parquet' # file path in S3"
   ]
  },
  {
   "cell_type": "code",
   "execution_count": null,
   "metadata": {},
   "outputs": [],
   "source": [
    "s3_resource = boto3.resource(\n",
    "    's3', \n",
    "    region_name = REGION, #complete when using\n",
    "    aws_access_key_id = ACCESS_KEY_ID, \n",
    "    aws_secret_access_key = SECRET_ACCESS_KEY\n",
    ")\n",
    "s3_resource.Bucket(BUCKET_NAME).put_object(\n",
    "    Key = KEY, \n",
    "    Body = open('/home/natalia/churn-prediction/parquet_data/train.parquet', 'rb')\n",
    ")"
   ]
  }
 ],
 "metadata": {
  "kernelspec": {
   "display_name": "Python 3",
   "language": "python",
   "name": "python3"
  },
  "language_info": {
   "codemirror_mode": {
    "name": "ipython",
    "version": 3
   },
   "file_extension": ".py",
   "mimetype": "text/x-python",
   "name": "python",
   "nbconvert_exporter": "python",
   "pygments_lexer": "ipython3",
   "version": "3.8.5"
  }
 },
 "nbformat": 4,
 "nbformat_minor": 4
}
