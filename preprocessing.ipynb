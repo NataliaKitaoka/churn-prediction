{
 "cells": [
  {
   "cell_type": "code",
   "execution_count": null,
   "metadata": {},
   "outputs": [],
   "source": [
    "import os\n",
    "import boto3 #AWS SDK for Python\n",
    "import pandas as pd"
   ]
  },
  {
   "cell_type": "code",
   "execution_count": null,
   "metadata": {},
   "outputs": [],
   "source": [
    "#converting .csv files to dataframe\n",
    "for file_csv in os.listdir('/home/natalia/churn-prediction/data/'):\n",
    "    file_df = pd.read_csv('/home/natalia/churn-prediction/data/'+ file_csv)\n",
    "    if 'train.csv' in file_csv:\n",
    "        file_df.to_parquet('/home/natalia/churn-prediction/parquet_data/'+'train.parquet')\n",
    "    elif 'test.csv' in file_csv:\n",
    "        file_df.to_parquet('/home/natalia/churn-prediction/parquet_data/'+'test.parquet')\n",
    "    elif 'sampleSubmission.csv' in file_csv:\n",
    "        file_df.to_parquet('/home/natalia/churn-prediction/parquet_data/'+'sampleSubm.parquet')\n"
   ]
  },
  {
   "cell_type": "code",
   "execution_count": null,
   "metadata": {},
   "outputs": [],
   "source": [
    "# Converting .csv to parquet\n",
    "train_df.to_parquet('/home/natalia/parquet')"
   ]
  },
  {
   "cell_type": "code",
   "execution_count": null,
   "metadata": {},
   "outputs": [],
   "source": [
    "#putting the data into a s3 - Simple Storage Service from Amazon\n",
    "s3 = boto3.resource('s3')"
   ]
  },
  {
   "cell_type": "code",
   "execution_count": null,
   "metadata": {},
   "outputs": [],
   "source": [
    "# Print out bucket names\n",
    "for bucket in s3.buckets.all():\n",
    "    print(bucket.name)"
   ]
  },
  {
   "cell_type": "code",
   "execution_count": null,
   "metadata": {},
   "outputs": [],
   "source": [
    "# Upload a new file\n",
    "object = s3.Object('customer-churn-2020', 'customer_churn.parquet')\n",
    "object.put(Body=binary_data)"
   ]
  }
 ],
 "metadata": {
  "kernelspec": {
   "display_name": "Python 3",
   "language": "python",
   "name": "python3"
  },
  "language_info": {
   "codemirror_mode": {
    "name": "ipython",
    "version": 3
   },
   "file_extension": ".py",
   "mimetype": "text/x-python",
   "name": "python",
   "nbconvert_exporter": "python",
   "pygments_lexer": "ipython3",
   "version": "3.8.5"
  }
 },
 "nbformat": 4,
 "nbformat_minor": 4
}
