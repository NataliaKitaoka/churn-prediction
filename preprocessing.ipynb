{
 "cells": [
  {
   "cell_type": "markdown",
   "metadata": {},
   "source": [
    "This notebook was done to simulate the tasks that should be done through Apache Airflow Operators"
   ]
  },
  {
   "cell_type": "code",
   "execution_count": 4,
   "metadata": {},
   "outputs": [],
   "source": [
    "#Importing modules\n",
    "import os\n",
    "import boto3 #AWS SDK for Python\n",
    "import pandas as pd\n",
    "from zipfile import ZipFile\n"
   ]
  },
  {
   "cell_type": "code",
   "execution_count": 5,
   "metadata": {},
   "outputs": [],
   "source": [
    "#converting .csv files to dataframe\n",
    "for file_csv in os.listdir('/home/natalia/churn-prediction/data/'):\n",
    "    file_df = pd.read_csv('/home/natalia/churn-prediction/data/'+ file_csv)\n",
    "    if 'train.csv' in file_csv:\n",
    "        file_df.to_parquet('/home/natalia/churn-prediction/parquet_data/'+'train.parquet')\n",
    "    elif 'test.csv' in file_csv:\n",
    "        file_df.to_parquet('/home/natalia/churn-prediction/parquet_data/'+'test.parquet')\n",
    "    elif 'sampleSubmission.csv' in file_csv:\n",
    "        file_df.to_parquet('/home/natalia/churn-prediction/parquet_data/'+'sampleSubm.parquet')\n"
   ]
  },
  {
   "cell_type": "code",
   "execution_count": 6,
   "metadata": {},
   "outputs": [
    {
     "name": "stdout",
     "output_type": "stream",
     "text": [
      "File Name                                             Modified             Size\n",
      "sampleSubmission.csv                           2020-04-15 11:40:32         6189\n",
      "test.csv                                       2020-04-15 11:40:32        70061\n",
      "train.csv                                      2020-04-15 11:40:32       391872\n"
     ]
    }
   ],
   "source": [
    "#Importing data without using awswrangler\n",
    "data_zip = '/home/natalia/customer-churn-prediction-2020.zip'\n",
    "\n",
    "with ZipFile(data_zip,'r') as zip:\n",
    "    zip.printdir()\n",
    "    zip.extractall('/home/natalia/churn-prediction/data')\n",
    "\n",
    "train_df = pd.read_csv('/home/natalia/churn-prediction/data/train.csv')\n",
    "test_df = pd.read_csv('/home/natalia/churn-prediction/data/test.csv')\n",
    "sample_submission = pd.read_csv('/home/natalia/churn-prediction/data/sampleSubmission.csv')"
   ]
  },
  {
   "cell_type": "code",
   "execution_count": 7,
   "metadata": {},
   "outputs": [],
   "source": [
    "# Converting .csv to parquet\n",
    "train_df.to_parquet('/home/natalia/parquet')"
   ]
  },
  {
   "cell_type": "code",
   "execution_count": 8,
   "metadata": {},
   "outputs": [],
   "source": [
    "#putting the data into a s3 - Simple Storage Service from Amazon\n",
    "s3 = boto3.resource('s3')"
   ]
  },
  {
   "cell_type": "code",
   "execution_count": 9,
   "metadata": {},
   "outputs": [
    {
     "name": "stdout",
     "output_type": "stream",
     "text": [
      "customer-churn-2020-data\n"
     ]
    }
   ],
   "source": [
    "# Print out bucket names\n",
    "for bucket in s3.buckets.all():\n",
    "    print(bucket.name)"
   ]
  },
  {
   "cell_type": "code",
   "execution_count": null,
   "metadata": {},
   "outputs": [],
   "source": [
    "# Upload a new file\n",
    "object = s3.Object('customer-churn-2020-data', 'train.parquet')\n",
    "object.put(Body=binary_data)"
   ]
  }
 ],
 "metadata": {
  "kernelspec": {
   "display_name": "Python 3",
   "language": "python",
   "name": "python3"
  },
  "language_info": {
   "codemirror_mode": {
    "name": "ipython",
    "version": 3
   },
   "file_extension": ".py",
   "mimetype": "text/x-python",
   "name": "python",
   "nbconvert_exporter": "python",
   "pygments_lexer": "ipython3",
   "version": "3.8.5"
  }
 },
 "nbformat": 4,
 "nbformat_minor": 4
}
